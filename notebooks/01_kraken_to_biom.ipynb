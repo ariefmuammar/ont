{
 "cells": [
  {
   "cell_type": "markdown",
   "id": "4fc46fb5-bb8f-4089-835d-994838b7084c",
   "metadata": {},
   "source": [
    "## Converting Kraken results to BIOM table\n",
    "This notebook attempts to convert and merge multiple kraken outputs to a single biom file (`json` format).\n",
    "To begin with the analyses, the report file `GMS-2405-ITS.zip` should be extracted  to the `data` folder (see [README](../README.md))\n",
    "\n",
    "### Step 1. Convert kraken output to individual biom tables\n",
    "In this step, we will generate biom tables (`hdf5` & `json` format) to `../output` folder using [kraken-biom](https://github.com/smdabdoub/kraken-biom)."
   ]
  },
  {
   "cell_type": "code",
   "execution_count": null,
   "id": "a4a86c5e-c839-4781-84a0-1aea60536e23",
   "metadata": {},
   "outputs": [],
   "source": [
    "%%bash\n",
    "for s in '09' '10' '11'\n",
    "do\n",
    "    input_file=\"../data/GMS-2405-ITS/Analysis/barcode$s/read_classifications.kraken\"\n",
    "    staged_file=\"sample_$s.kraken\" # important step to give proper column name in biom table\n",
    "    cp $input_file $staged_file\n",
    "    kraken-biom $staged_file -o ../output/sample_$s.hdf5.biom\n",
    "    kraken-biom $staged_file -o ../output/sample_$s.json.biom --fmt json\n",
    "    rm $staged_file\n",
    "done"
   ]
  },
  {
   "cell_type": "markdown",
   "id": "26a2b59e-b1cc-44a2-8248-109cdf6dfb4d",
   "metadata": {},
   "source": [
    "### Step 2. Using biom library to merge all data together\n",
    "Next, we will follow the instruction from [biom-format](https://biom-format.org/index.html) to merge all the samples together."
   ]
  },
  {
   "cell_type": "code",
   "execution_count": null,
   "id": "10d73460-6c49-4207-a86b-aceef9f9b5ee",
   "metadata": {},
   "outputs": [],
   "source": [
    "# load python libraries\n",
    "from pathlib import Path\n",
    "from biom import Table, load_table"
   ]
  },
  {
   "cell_type": "code",
   "execution_count": null,
   "id": "e9ad4ee0-f739-483e-831f-e9d7f2b78dca",
   "metadata": {},
   "outputs": [],
   "source": [
    "# read all biom tables into python object\n",
    "biom_tables = []\n",
    "for s in Path(\"../output/\").glob(\"*.json.biom\"):\n",
    "    table = load_table(s)\n",
    "    biom_tables.append(table)"
   ]
  },
  {
   "cell_type": "code",
   "execution_count": null,
   "id": "da7f718c-10c3-4816-b034-26297f315c88",
   "metadata": {},
   "outputs": [],
   "source": [
    "# merge all tables together, should've use for loop here\n",
    "merged_table = biom_tables[0].merge(biom_tables[1]).merge(biom_tables[2])\n",
    "\n",
    "# apparently, the resulting \"type\" instance is Null. Manually assign value\n",
    "merged_table.type = \"OTU table\""
   ]
  },
  {
   "cell_type": "code",
   "execution_count": null,
   "id": "45f3bd56-2a13-487d-a2cf-00327e0cbccb",
   "metadata": {},
   "outputs": [],
   "source": [
    "# write output to file\n",
    "with open(\"../output/all_sample.json.biom\", \"w\") as f:\n",
    "    f.write(merged_table.to_json(\"biom-format\"))"
   ]
  },
  {
   "cell_type": "markdown",
   "id": "dad68e03-19c5-42b0-842b-e0ce8ffece12",
   "metadata": {},
   "source": [
    "### 3. Analysis and visualization\n",
    "Now that we have a familiar format, we can explore the data using [MEGAN6](https://uni-tuebingen.de/fakultaeten/mathematisch-naturwissenschaftliche-fakultaet/fachbereiche/informatik/lehrstuehle/algorithms-in-bioinformatics/software/megan6/#:~:text=MEGAN6%20is%20a%20comprehensive%20toolbox,InterPro2GO%2C%20SEED%2C%20eggNOG%20or%20KEGG)."
   ]
  }
 ],
 "metadata": {
  "kernelspec": {
   "display_name": "Python 3 (ipykernel)",
   "language": "python",
   "name": "python3"
  },
  "language_info": {
   "codemirror_mode": {
    "name": "ipython",
    "version": 3
   },
   "file_extension": ".py",
   "mimetype": "text/x-python",
   "name": "python",
   "nbconvert_exporter": "python",
   "pygments_lexer": "ipython3",
   "version": "3.11.0"
  }
 },
 "nbformat": 4,
 "nbformat_minor": 5
}
